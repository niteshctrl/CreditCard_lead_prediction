{
  "nbformat": 4,
  "nbformat_minor": 0,
  "metadata": {
    "colab": {
      "name": "Credit Lead Prediction.ipynb",
      "provenance": [],
      "authorship_tag": "ABX9TyMSc8ZFPp8fKzYvNNwKdLoK",
      "include_colab_link": true
    },
    "kernelspec": {
      "name": "python3",
      "display_name": "Python 3"
    },
    "language_info": {
      "name": "python"
    }
  },
  "cells": [
    {
      "cell_type": "markdown",
      "metadata": {
        "id": "view-in-github",
        "colab_type": "text"
      },
      "source": [
        "<a href=\"https://colab.research.google.com/github/niteshctrl/credit_lead_prediction/blob/main/Credit_Lead_Prediction.ipynb\" target=\"_parent\"><img src=\"https://colab.research.google.com/assets/colab-badge.svg\" alt=\"Open In Colab\"/></a>"
      ]
    },
    {
      "cell_type": "code",
      "metadata": {
        "id": "b8w4UuHnzw7x"
      },
      "source": [
        "!pip install keras-tuner"
      ],
      "execution_count": null,
      "outputs": []
    },
    {
      "cell_type": "code",
      "metadata": {
        "id": "J-0XQHozI25f"
      },
      "source": [
        "# Importing Libraries\n",
        "\n",
        "import numpy as np\n",
        "import pandas as pd\n",
        "import seaborn as sns\n",
        "import matplotlib.pyplot as plt\n",
        "from sklearn.metrics import confusion_matrix\n",
        "from sklearn.preprocessing import LabelEncoder\n",
        "from sklearn.metrics import plot_confusion_matrix\n",
        "\n",
        "import kerastuner as kt\n",
        "import tensorflow as tf\n",
        "from tensorflow.keras import Sequential\n",
        "from tensorflow.keras.metrics import AUC\n",
        "from tensorflow.keras.optimizers import Adam\n",
        "from sklearn.preprocessing import OneHotEncoder\n",
        "from sklearn.preprocessing import StandardScaler\n",
        "from tensorflow.keras.preprocessing.text import one_hot\n",
        "from tensorflow.keras.callbacks import EarlyStopping, ReduceLROnPlateau\n",
        "from tensorflow.keras.layers import Dense, Dropout, BatchNormalization, InputLayer"
      ],
      "execution_count": 13,
      "outputs": []
    },
    {
      "cell_type": "code",
      "metadata": {
        "id": "0LhlUOHiI64L"
      },
      "source": [
        "df_train = pd.read_csv('train.csv')\n",
        "# df_test = pd.read_csv('test.csv')"
      ],
      "execution_count": 3,
      "outputs": []
    },
    {
      "cell_type": "code",
      "metadata": {
        "id": "TKJICK1wI9Gy"
      },
      "source": [
        "# Replace NaN values with 'unk_credit' for data analysis\n",
        "\n",
        "df_train['Credit_Product'] = df_train['Credit_Product'].replace(np.nan, 'unk_credit')\n",
        "# df_test['Credit_Product'] = df_test['Credit_Product'].replace(np.nan, 'unk_credit')"
      ],
      "execution_count": 4,
      "outputs": []
    },
    {
      "cell_type": "code",
      "metadata": {
        "colab": {
          "base_uri": "https://localhost:8080/",
          "height": 198
        },
        "id": "rV-PCUTp1iBg",
        "outputId": "b889b83f-20eb-4a89-c90d-e11598b4977e"
      },
      "source": [
        "df_train.head()"
      ],
      "execution_count": 27,
      "outputs": [
        {
          "output_type": "execute_result",
          "data": {
            "text/html": [
              "<div>\n",
              "<style scoped>\n",
              "    .dataframe tbody tr th:only-of-type {\n",
              "        vertical-align: middle;\n",
              "    }\n",
              "\n",
              "    .dataframe tbody tr th {\n",
              "        vertical-align: top;\n",
              "    }\n",
              "\n",
              "    .dataframe thead th {\n",
              "        text-align: right;\n",
              "    }\n",
              "</style>\n",
              "<table border=\"1\" class=\"dataframe\">\n",
              "  <thead>\n",
              "    <tr style=\"text-align: right;\">\n",
              "      <th></th>\n",
              "      <th>ID</th>\n",
              "      <th>Gender</th>\n",
              "      <th>Age</th>\n",
              "      <th>Region_Code</th>\n",
              "      <th>Occupation</th>\n",
              "      <th>Channel_Code</th>\n",
              "      <th>Vintage</th>\n",
              "      <th>Credit_Product</th>\n",
              "      <th>Avg_Account_Balance</th>\n",
              "      <th>Is_Active</th>\n",
              "      <th>Is_Lead</th>\n",
              "    </tr>\n",
              "  </thead>\n",
              "  <tbody>\n",
              "    <tr>\n",
              "      <th>0</th>\n",
              "      <td>NNVBBKZB</td>\n",
              "      <td>Female</td>\n",
              "      <td>73</td>\n",
              "      <td>RG268</td>\n",
              "      <td>Other</td>\n",
              "      <td>X3</td>\n",
              "      <td>43</td>\n",
              "      <td>No</td>\n",
              "      <td>1045696</td>\n",
              "      <td>No</td>\n",
              "      <td>0</td>\n",
              "    </tr>\n",
              "    <tr>\n",
              "      <th>1</th>\n",
              "      <td>IDD62UNG</td>\n",
              "      <td>Female</td>\n",
              "      <td>30</td>\n",
              "      <td>RG277</td>\n",
              "      <td>Salaried</td>\n",
              "      <td>X1</td>\n",
              "      <td>32</td>\n",
              "      <td>No</td>\n",
              "      <td>581988</td>\n",
              "      <td>No</td>\n",
              "      <td>0</td>\n",
              "    </tr>\n",
              "    <tr>\n",
              "      <th>2</th>\n",
              "      <td>HD3DSEMC</td>\n",
              "      <td>Female</td>\n",
              "      <td>56</td>\n",
              "      <td>RG268</td>\n",
              "      <td>Self_Employed</td>\n",
              "      <td>X3</td>\n",
              "      <td>26</td>\n",
              "      <td>No</td>\n",
              "      <td>1484315</td>\n",
              "      <td>Yes</td>\n",
              "      <td>0</td>\n",
              "    </tr>\n",
              "    <tr>\n",
              "      <th>3</th>\n",
              "      <td>BF3NC7KV</td>\n",
              "      <td>Male</td>\n",
              "      <td>34</td>\n",
              "      <td>RG270</td>\n",
              "      <td>Salaried</td>\n",
              "      <td>X1</td>\n",
              "      <td>19</td>\n",
              "      <td>No</td>\n",
              "      <td>470454</td>\n",
              "      <td>No</td>\n",
              "      <td>0</td>\n",
              "    </tr>\n",
              "    <tr>\n",
              "      <th>4</th>\n",
              "      <td>TEASRWXV</td>\n",
              "      <td>Female</td>\n",
              "      <td>30</td>\n",
              "      <td>RG282</td>\n",
              "      <td>Salaried</td>\n",
              "      <td>X1</td>\n",
              "      <td>33</td>\n",
              "      <td>No</td>\n",
              "      <td>886787</td>\n",
              "      <td>No</td>\n",
              "      <td>0</td>\n",
              "    </tr>\n",
              "  </tbody>\n",
              "</table>\n",
              "</div>"
            ],
            "text/plain": [
              "         ID  Gender  Age  ... Avg_Account_Balance Is_Active Is_Lead\n",
              "0  NNVBBKZB  Female   73  ...             1045696        No       0\n",
              "1  IDD62UNG  Female   30  ...              581988        No       0\n",
              "2  HD3DSEMC  Female   56  ...             1484315       Yes       0\n",
              "3  BF3NC7KV    Male   34  ...              470454        No       0\n",
              "4  TEASRWXV  Female   30  ...              886787        No       0\n",
              "\n",
              "[5 rows x 11 columns]"
            ]
          },
          "metadata": {
            "tags": []
          },
          "execution_count": 27
        }
      ]
    },
    {
      "cell_type": "code",
      "metadata": {
        "id": "CD_RrUaqBDi2"
      },
      "source": [
        "X_tr = df_train.drop(['ID', 'Is_Lead'], axis=1)\n",
        "y_tr = df_train.Is_Lead"
      ],
      "execution_count": 6,
      "outputs": []
    },
    {
      "cell_type": "markdown",
      "metadata": {
        "id": "q5oHroa7PaT6"
      },
      "source": [
        "# Preprocessing"
      ]
    },
    {
      "cell_type": "code",
      "metadata": {
        "id": "RHH-7ISH4OdG"
      },
      "source": [
        "def preprocess(X_tr):\n",
        "    ''' Input X_tr must exclude the target variable'''\n",
        "\n",
        "    scaler = StandardScaler()\n",
        "\n",
        "    data_numerical = scaler.fit_transform(X_tr.select_dtypes(exclude=['object']))\n",
        "    data_categorical = pd.get_dummies(X_tr.select_dtypes(include=['object']),\n",
        "                                      drop_first=True)\n",
        "\n",
        "    return pd.concat([pd.DataFrame(data_numerical),data_categorical], axis=1)"
      ],
      "execution_count": 5,
      "outputs": []
    },
    {
      "cell_type": "markdown",
      "metadata": {
        "id": "hI0ELmAwPgtt"
      },
      "source": [
        "# Modelling"
      ]
    },
    {
      "cell_type": "code",
      "metadata": {
        "id": "W-RpiOGmJCG7"
      },
      "source": [
        "X = preprocess(df_train)\n",
        "y = df_train.Is_Lead"
      ],
      "execution_count": null,
      "outputs": []
    },
    {
      "cell_type": "code",
      "metadata": {
        "id": "-JoYReHZJGsf"
      },
      "source": [
        "# Callbacks\n",
        "\n",
        "early_stop = EarlyStopping(monitor='val_loss', \n",
        "                           patience=6,\n",
        "                           restore_best_weights=True\n",
        "                          )\n",
        "\n",
        "lr_scheduler = ReduceLROnPlateau(monitor='val_loss',\n",
        "                                 factor=0.1, \n",
        "                                 patience=3\n",
        "                                 )"
      ],
      "execution_count": null,
      "outputs": []
    },
    {
      "cell_type": "code",
      "metadata": {
        "id": "pkqOZrO9JDmc"
      },
      "source": [
        "# Hyperparameters: #neurons, #layers, dropout rate\n",
        "def model_builder(hp):\n",
        "    dropout_rate = hp.Float('dropout_rate', min_value=0.1, max_value=0.5, step=0.2)\n",
        "    model = Sequential()\n",
        "    # model.add(Dense(len(X_tr.columns), input_dim=len(X_tr.columns), activation='relu'))\n",
        "    # model.add(Dropout(drop_rate))\n",
        "\n",
        "    # Tune the number of layers\n",
        "    num_layers = hp.Int('num_layers', min_value=5, max_value=12, step=3)\n",
        "    for i in range(num_layers):\n",
        "        num_units = hp.Int('num_units', min_value=32, max_value=512, step=92)\n",
        "        \n",
        "        model.add(Dense(units=num_units, activation='relu', \\\n",
        "                        kernel_initializer=\"he_normal\"))\n",
        "        model.add(Dropout(dropout_rate))\n",
        "        \n",
        "    model.add(Dense(1, activation='sigmoid'))     # Output Layer\n",
        "    model.compile(loss='binary_crossentropy', optimizer='adam', metrics=[AUC()])\n",
        "    \n",
        "    return model"
      ],
      "execution_count": 24,
      "outputs": []
    },
    {
      "cell_type": "code",
      "metadata": {
        "id": "X-m3946r4iMv"
      },
      "source": [
        "def build_model():\n",
        "    ###### Prepare and preprocess the data #######\n",
        "    X_tr = df_train.drop(['ID', 'Is_Lead'], axis=1)\n",
        "    y_tr = df_train.Is_Lead\n",
        "\n",
        "    X_tr = preprocess(X_tr)\n",
        "    ##############################################\n",
        "\n",
        "\n",
        "    ################## Callbacks ########################\n",
        "    early_stop = EarlyStopping(monitor='val_loss', \n",
        "                           patience=6,\n",
        "                           restore_best_weights=True\n",
        "                          )\n",
        "\n",
        "    lr_scheduler = ReduceLROnPlateau(monitor='val_loss',\n",
        "                                    factor=0.1, \n",
        "                                    patience=3\n",
        "                                    )\n",
        "    #####################################################\n",
        "\n",
        "\n",
        "    ################## Hyperparameter tuning ##########################\n",
        "\n",
        "    # Build Hyperband instance\n",
        "    tuner = kt.Hyperband(model_builder, \n",
        "                         objective=kt.Objective('val_auc', direction='max'),\n",
        "                         max_epochs=50)\n",
        "\n",
        "    # Search the parameter space\n",
        "    tuner.search(X_tr, y_tr, epochs=50, validation_split=0.2, \n",
        "                 callbacks=[early_stop], batch_size=1024)\n",
        "\n",
        "    best_hps=tuner.get_best_hyperparameters(num_trials=1)[0]\n",
        "    model = tuner.hypermodel.build(best_hps)\n",
        "    ###################################################################\n",
        "\n",
        "    return model, X_tr, y_tr"
      ],
      "execution_count": 29,
      "outputs": []
    },
    {
      "cell_type": "code",
      "metadata": {
        "colab": {
          "base_uri": "https://localhost:8080/"
        },
        "id": "RQMzlhPNGgLu",
        "outputId": "8071df41-d86e-4723-907c-5d4c30bcf58b"
      },
      "source": [
        "model, X_tr, y_tr = build_model()"
      ],
      "execution_count": null,
      "outputs": [
        {
          "output_type": "stream",
          "text": [
            "Trial 23 Complete [00h 00m 08s]\n",
            "val_auc: 0.5\n",
            "\n",
            "Best val_auc So Far: 0.8709453344345093\n",
            "Total elapsed time: 00h 18m 20s\n",
            "\n",
            "Search: Running Trial #24\n",
            "\n",
            "Hyperparameter    |Value             |Best Value So Far \n",
            "dropout_rate      |0.1               |0.1               \n",
            "num_layers        |11                |8                 \n",
            "num_units         |400               |308               \n",
            "tuner/epochs      |2                 |2                 \n",
            "tuner/initial_e...|0                 |0                 \n",
            "tuner/bracket     |3                 |3                 \n",
            "tuner/round       |0                 |0                 \n",
            "\n",
            "Epoch 1/2\n",
            "192/192 [==============================] - 51s 260ms/step - loss: 0.4016 - auc: 0.8327 - val_loss: 0.3672 - val_auc: 0.8654\n",
            "Epoch 2/2\n",
            "192/192 [==============================] - 50s 261ms/step - loss: 0.3589 - auc: 0.8622 - val_loss: 0.3481 - val_auc: 0.8722\n"
          ],
          "name": "stdout"
        }
      ]
    },
    {
      "cell_type": "code",
      "metadata": {
        "id": "6JG_aS9N_DyA"
      },
      "source": [
        "# Proceeding with model training\n",
        "\n"
      ],
      "execution_count": null,
      "outputs": []
    }
  ]
}